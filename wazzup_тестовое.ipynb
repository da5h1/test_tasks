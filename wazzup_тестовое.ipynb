{
  "cells": [
    {
      "cell_type": "markdown",
      "metadata": {
        "id": "zKL62cioY89d"
      },
      "source": [
        "Как я понял, в данном тестовом задании нужно удобно обработать датасет, чтобы его потом можно было использовать в сочетании llm, после чего придумать промпт, который выводит из данных ответ."
      ]
    },
    {
      "cell_type": "code",
      "execution_count": null,
      "metadata": {
        "id": "aydoTunfYNe9"
      },
      "outputs": [],
      "source": [
        "import pandas as pd\n",
        "dfile = pd.read_csv(\"/content/test_dialogs_dataset - test_dialogs_dataset.csv\")"
      ]
    },
    {
      "cell_type": "code",
      "execution_count": null,
      "metadata": {
        "colab": {
          "base_uri": "https://localhost:8080/"
        },
        "id": "M1-zi5Gr8F4k",
        "outputId": "b4cf6d1a-9e0d-41c5-f9e0-1fd17056d87a"
      },
      "outputs": [
        {
          "name": "stdout",
          "output_type": "stream",
          "text": [
            "[('Менеджер', 'Добрый день!!'), ('Клиент', 'Здравствуйте! Хотел бы узнать о новой акции... 😊🙂'), ('Менеджер', 'Конечно, у нас есть отличное предложение!!!!---')]\n"
          ]
        }
      ],
      "source": [
        "def prepare(sample: str):\n",
        "  samples = sample.replace(\"[\", \"\\n[\").split('\\n') #разделение по квадратной скобке\n",
        "  samples = [sample[21:].strip() for sample in samples] #убираем даты\n",
        "  samples = [sample for sample in samples if sample[:6] == \"Клиент\" or sample[:8] == \"Менеджер\"] #проверяем какое начало у строк\n",
        "  dialog = []\n",
        "  for sample in samples:\n",
        "    dialog.append((sample.split(\":\")[0].strip(), sample.split(\":\")[1].strip()))\n",
        "  return dialog\n",
        "\n",
        "ds = [dfile[\"dialog_text\"][i] for i in range(len(dfile))]\n",
        "ds = list(map(prepare, ds))"
      ]
    },
    {
      "cell_type": "markdown",
      "metadata": {
        "id": "-5_YZQNxxwL-"
      },
      "source": [
        "теперь датасет выглядит так"
      ]
    },
    {
      "cell_type": "code",
      "execution_count": null,
      "metadata": {
        "colab": {
          "base_uri": "https://localhost:8080/"
        },
        "id": "03MFbdBSxzhu",
        "outputId": "2e38eeb5-8c12-4050-aa97-ae2171462a84"
      },
      "outputs": [
        {
          "name": "stdout",
          "output_type": "stream",
          "text": [
            "[[('Менеджер', 'Добрый день!!'), ('Клиент', 'Здравствуйте! Хотел бы узнать о новой акции... 😊🙂'), ('Менеджер', 'Конечно, у нас есть отличное предложение!!!!---')], [('Менеджер', 'Здравствуйте, чем могу помочь?'), ('Клиент', 'я хотел бы отменить свой заказ.... ***'), ('Менеджер', 'Хорошо, я помогу вам с этим!!!! 123')], [('Клиент', 'Я ищу информацию о вашем продукте... ?!!'), ('Менеджер', 'Конечно! Вот ссылка на наш сайт')]]\n"
          ]
        }
      ],
      "source": [
        "print(ds)"
      ]
    },
    {
      "cell_type": "markdown",
      "metadata": {
        "id": "dZaPgfLMpaOp"
      },
      "source": [
        "у меня нету доступа к openai, поэтому в целях демонстрации я использую модель ruGPT3Large."
      ]
    },
    {
      "cell_type": "code",
      "execution_count": null,
      "metadata": {
        "id": "hQHkfA3ap1Fx"
      },
      "outputs": [],
      "source": [
        "from transformers import GPT2LMHeadModel, GPT2Tokenizer\n",
        "tok, model = GPT2Tokenizer.from_pretrained(\"sberbank-ai/rugpt3large_based_on_gpt2\"), GPT2LMHeadModel.from_pretrained(\"sberbank-ai/rugpt3large_based_on_gpt2\").cuda()"
      ]
    },
    {
      "cell_type": "code",
      "execution_count": null,
      "metadata": {
        "id": "jDp5KR-EvK0E"
      },
      "outputs": [],
      "source": [
        "def generate(\n",
        "    model, tok, text,\n",
        "    do_sample=True, max_length=100, repetition_penalty=5.0,\n",
        "    top_k=5, top_p=0.95, temperature=1,\n",
        "    num_beams=None,\n",
        "    no_repeat_ngram_size=3\n",
        "    ):\n",
        "  input_ids = tok.encode(text, return_tensors=\"pt\").cuda()\n",
        "  out = model.generate(\n",
        "      input_ids.cuda(),\n",
        "      max_length=max_length,\n",
        "      repetition_penalty=repetition_penalty,\n",
        "      do_sample=do_sample,\n",
        "      top_k=top_k, top_p=top_p, temperature=temperature,\n",
        "      num_beams=num_beams, no_repeat_ngram_size=no_repeat_ngram_size\n",
        "      )\n",
        "  return list(map(tok.decode, out))"
      ]
    },
    {
      "cell_type": "markdown",
      "metadata": {
        "id": "p5oD3zHUrNz3"
      },
      "source": [
        "Использование нового промпта"
      ]
    },
    {
      "cell_type": "code",
      "execution_count": null,
      "metadata": {
        "id": "LYIg4X408SbA"
      },
      "outputs": [],
      "source": [
        "old_prompt = \"придумай задание для менеджера на основе этого диалога\"\n",
        "new_prompt = \"придумай задание, которое может прийти в crm, для менеджера на основе этого диалога\""
      ]
    },
    {
      "cell_type": "code",
      "execution_count": null,
      "metadata": {
        "colab": {
          "base_uri": "https://localhost:8080/"
        },
        "id": "6QO7uCZUr-j-",
        "outputId": "b22ea15a-69ea-403a-d35a-9f5170f12ad2"
      },
      "outputs": [
        {
          "name": "stdout",
          "output_type": "stream",
          "text": [
            "придумай задание, которое может прийти в crm, для менеджера на основе этого диалога\n",
            "Менеджер:Добрый день!!\n",
            "Клиент:Здравствуйте! Хотел бы узнать о новой акции... 😊🙂\n",
            "Менеджер:Конечно, у нас есть отличное предложение!!!!---\n",
            "Договоритесь с менеджером по телефону и получите скидку 10% при заказе от 50 000 руб.<s>\n",
            "Узнай как замшелые убеждения, стереотипы\n",
            "\n",
            "придумай задание, которое может прийти в crm, для менеджера на основе этого диалога\n",
            "Менеджер:Здравствуйте, чем могу помочь?\n",
            "Клиент:я хотел бы отменить свой заказ.... ***\n",
            "Менеджер:Хорошо, я помогу вам с этим!!!! 123\n",
            "Договариваемся о том, что менеджер перезвонит клиенту и сообщит об отмене заказа. Менеджер перезванивает клиенту и сообщает об отмене его заказа. Клиент звонит менеджеру и отменяет\n",
            "\n",
            "придумай задание, которое может прийти в crm, для менеджера на основе этого диалога\n",
            "Клиент:Я ищу информацию о вашем продукте...?!!\n",
            "Менеджер:Конечно! Вот ссылка на наш сайт\n",
            "клиент:Спасибо. А что вы можете мне предложить?\n",
            "менеджер:Давайте я вам расскажу про ваш продукт и мы с вами вместе подумаем над тем, как сделать его еще лучше..<s>\n",
            "Официальный представитель МИД России Мария Захарова прокомментировала\n",
            "\n"
          ]
        }
      ],
      "source": [
        "for dialog in ds:\n",
        "  prompt = ''\n",
        "  prompt += new_prompt\n",
        "  prompt += '\\n'\n",
        "  for x,y in dialog:\n",
        "    prompt += x\n",
        "    prompt += \":\"\n",
        "    prompt += y\n",
        "    prompt += \"\\n\"\n",
        "  generated = generate(model=model, tok=tok, text=prompt, num_beams=10)[0]\n",
        "  print(generated)\n",
        "  print()"
      ]
    },
    {
      "cell_type": "markdown",
      "metadata": {
        "id": "xMEIKyhdw6V7"
      },
      "source": [
        "Для того, чтобы узнать хорошо или плохо сработал промпт, мы должны иметь датасет эталонных ответом и сравнивать выход от двух промптов с эталонным. Для сравнения похожести на эталонный ответ можно использовать мультиязычную версию BERT Score."
      ]
    },
    {
      "cell_type": "markdown",
      "metadata": {
        "id": "edfX0fT2xqdn"
      },
      "source": [
        "ЗАДАНИЕ 2\n",
        "\n",
        "Чтобы реализовать самостоятельное закрывание некоторых задач сервисом, нам следует понять в каком случае необходимо совершить то или иное действие. Например, нужно научить сервис в нужный момент напоминать клиенту о встрече. Для этого можно создать датасет диалогов и каждому в соответствие поставить флаг, нужно ли в этом случае делать напоминание. После можно обучить модель на этом датасете и встроить ее в сервис. Так как мы не можем доверить принятие решения нейросети, это можно оформить в форме подсказок от ИИ. Либо можно выделить отдельное пространство, в которое будут приходить нейросетевые рекомендации.\n",
        "\n",
        "Допустим, надо сделать так, чтобы сервис напоминал о том, что клиент тебе долгое время не отвечает. Для этого можно таким же образом проанализировать множество ситуаций, когда уместно или неуместно напомнить о себе. Необходимо использовать информацию с датой и временем отправки сообщений.\n",
        "\n",
        "Нужно чтобы сервис постоянно оценивал состояние твоих диалогов, чтобы понять, нужно ли в данный момент дать некоторую подсказку или нет. Как это сделать? Может быть, нужно, чтобы сервис в каждом дилоге отправлял в модель последние n сообщений, после чего модель выдаст, какое действие лучше совершить в этом конкретом диалоге."
      ]
    }
  ],
  "metadata": {
    "accelerator": "GPU",
    "colab": {
      "gpuType": "T4",
      "provenance": []
    },
    "kernelspec": {
      "display_name": "Python 3",
      "name": "python3"
    },
    "language_info": {
      "name": "python"
    }
  },
  "nbformat": 4,
  "nbformat_minor": 0
}
